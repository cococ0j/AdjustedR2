{
 "cells": [
  {
   "cell_type": "code",
   "execution_count": 27,
   "metadata": {
    "collapsed": false
   },
   "outputs": [],
   "source": [
    "from __future__ import print_function\n",
    "import os\n",
    "import gzip\n",
    "import threading\n",
    "import sys"
   ]
  },
  {
   "cell_type": "code",
   "execution_count": 29,
   "metadata": {
    "collapsed": false
   },
   "outputs": [],
   "source": [
    "WKDIR = 'C:\\\\Users\\\\Admin\\\\Documents\\\\MelbDatathon2018'\n",
    "os.chdir(WKDIR)\n",
    "\n",
    "fo_s0on = 'samp0_on'\n",
    "fo_s0off = 'samp0_off'\n",
    "\n",
    "fo_s1on = 'samp1_on'\n",
    "fo_s1off = 'samp1_off'\n",
    "\n",
    "scan_cnt = {'samp0_on':0, 'samp0_off':0, 'samp1_on':0, 'samp1_off':0}\n",
    "scan_headers = 'Mode|BusinessDate|DateTime|CardID|CardType|ParentRoute|VehicleID|RouteID|StopID\r\\n'\n",
    "\n",
    "threads = []"
   ]
  },
  {
   "cell_type": "code",
   "execution_count": 40,
   "metadata": {
    "collapsed": false
   },
   "outputs": [],
   "source": [
    "def scan_create(root,f,f_scan):\n",
    "    global scan_cnt\n",
    "    print(f)\n",
    "    if not scan_cnt[f_scan]: # create file on first of type\n",
    "        with gzip.open(os.path.join(root,f), 'rb') as f_in, open(os.path.join(WKDIR,f_scan), 'wb') as f_out:\n",
    "            f_out.write(scan_headers)\n",
    "            f_out.write(f_in.read())\n",
    "    else: # else append to file on subsequent of type\n",
    "        with gzip.open(os.path.join(root,f), 'rb') as f_in, open(os.path.join(WKDIR,f_scan), 'ab') as f_out:\n",
    "            f_out.write(f_in.read())\n",
    "    scan_cnt[f_scan] = scan_cnt[f_scan] + 1\n"
   ]
  },
  {
   "cell_type": "code",
   "execution_count": null,
   "metadata": {
    "collapsed": true
   },
   "outputs": [],
   "source": [
    "def main():\n",
    "    counter = 0\n",
    "    for root,dirs,files in os.walk(WKDIR):\n",
    "        for f in files:\n",
    "            if f.endswith('.gz'):\n",
    "                if 'Samp_0' in root and  'On' in root:\n",
    "                    threads.append(threading.Thread(target=scan_create, args=(root,f,fo_s0on)))\n",
    "                    threads[-1].start()\n",
    "                elif 'Samp_0' in root and  'Off' in root:\n",
    "                    threads.append(threading.Thread(target=scan_create, args=(root,f,fo_s0off)))\n",
    "                    threads[-1].start()\n",
    "                elif 'Samp_1' in root and  'On' in root:\n",
    "                    threads.append(threading.Thread(target=scan_create, args=(root,f,fo_s1on)))\n",
    "                    threads[-1].start()\n",
    "                elif 'Samp_1' in root and  'Off' in root:\n",
    "                    threads.append(threading.Thread(target=scan_create, args=(root,f,fo_s1off)))\n",
    "                    threads[-1].start()\n",
    "        for thr in threads:\n",
    "            thr.join()\n",
    "    \n",
    "if __name__ == \"__main__\":\n",
    "    global scan_cnt # initialise\n",
    "    scan_cnt['samp0_on']  = 0   \n",
    "    scan_cnt['samp0_off'] = 0\n",
    "    scan_cnt['samp1_on']  = 0\n",
    "    scan_cnt['samp1_off'] = 0\n",
    "\n",
    "    main() # need this for threading I believe"
   ]
  },
  {
   "cell_type": "markdown",
   "metadata": {},
   "source": [
    "### NOTE:\n",
    "#### The below import command may be exceedingly slow as loading all into memory\n"
   ]
  },
  {
   "cell_type": "code",
   "execution_count": null,
   "metadata": {
    "collapsed": true
   },
   "outputs": [],
   "source": [
    "import pandas as pd\n",
    "df = pd.read_csv(os.path.join(WKDIR,fo_s0off), sep='|')"
   ]
  }
 ],
 "metadata": {
  "kernelspec": {
   "display_name": "Python 2",
   "language": "python",
   "name": "python2"
  },
  "language_info": {
   "codemirror_mode": {
    "name": "ipython",
    "version": 2
   },
   "file_extension": ".py",
   "mimetype": "text/x-python",
   "name": "python",
   "nbconvert_exporter": "python",
   "pygments_lexer": "ipython2",
   "version": "2.7.11"
  }
 },
 "nbformat": 4,
 "nbformat_minor": 0
}
