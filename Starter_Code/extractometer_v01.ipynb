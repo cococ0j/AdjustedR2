{
 "cells": [
  {
   "cell_type": "code",
   "execution_count": 27,
   "metadata": {
    "collapsed": false
   },
   "outputs": [],
   "source": [
    "from __future__ import print_function\n",
    "import os\n",
    "import gzip\n",
    "import threading\n",
    "import sys"
   ]
  },
  {
   "cell_type": "code",
   "execution_count": 29,
   "metadata": {
    "collapsed": false
   },
   "outputs": [],
   "source": [
    "WKDIR = 'C:\\\\Users\\\\Admin\\\\Documents\\\\MelbDatathon2018'\n",
    "os.chdir(WKDIR)\n",
    "\n",
    "fo_s0on = 'samp0_on'\n",
    "fo_s0off = 'samp0_off'\n",
    "\n",
    "fo_s1on = 'samp1_on'\n",
    "fo_s1off = 'samp1_off'\n",
    "\n",
    "scan_cnt = {'samp0_on':0, 'samp0_off':0, 'samp1_on':0, 'samp1_off':0}\n",
    "scan_headers = 'Card_Type|Travel_Date|TouchOnOff_DateTime|Unknown1|Unknown2|Unknown3|Unknown4|Unknown5|Unknown6\\r\\n'\n",
    "\n",
    "threads = []"
   ]
  },
  {
   "cell_type": "code",
   "execution_count": 40,
   "metadata": {
    "collapsed": false
   },
   "outputs": [],
   "source": [
    "def scan_create(root,f,f_scan):\n",
    "    global scan_cnt\n",
    "    print(f)\n",
    "    if not scan_cnt[f_scan]: # create file on first of type\n",
    "        with gzip.open(os.path.join(root,f), 'rb') as f_in, open(os.path.join(WKDIR,f_scan), 'wb') as f_out:\n",
    "            f_out.write(scan_headers)\n",
    "            f_out.write(f_in.read())\n",
    "    else: # else append to file on subsequent of type\n",
    "        with gzip.open(os.path.join(root,f), 'rb') as f_in, open(os.path.join(WKDIR,f_scan), 'ab') as f_out:\n",
    "            f_out.write(f_in.read())\n",
    "    scan_cnt[f_scan] = scan_cnt[f_scan] + 1\n"
   ]
  },
  {
   "cell_type": "code",
   "execution_count": null,
   "metadata": {
    "collapsed": false
   },
   "outputs": [
    {
     "name": "stdout",
     "output_type": "stream",
     "text": [
      "QID3527574_20180713_00551_0.txt.gz\n",
      "QID3527589_20180713_00622_0.txt.gz\n",
      "QID3527600_20180713_00711_0.txt.gz\n",
      "QID3527611_20180713_00749_0.txt.gz\n",
      "QID3527625_20180713_00829_0.txt.gz\n",
      "QID3527636_20180713_00909_0.txt.gz\n",
      "QID3527647_20180713_00959_0.txt.gz\n",
      "QID3527658_20180713_01038_0.txt.gz\n",
      "QID3527675_20180713_01119_0.txt.gz\n",
      "QID3527686_20180713_01157_0.txt.gz\n",
      "QID3527697_20180713_01235_0.txt.gz\n",
      "QID3527714_20180713_01317_0.txt.gz\n",
      "QID3527725_20180713_01357_0.txt.gz\n",
      "QID3527736_20180713_01437_0.txt.gz\n",
      "QID3527747_20180713_01512_0.txt.gz\n",
      "QID3527758_20180713_01548_0.txt.gz\n",
      "QID3527776_20180713_01628_0.txt.gz\n",
      "QID3527787_20180713_01707_0.txt.gz\n",
      "QID3527798_20180713_01744_0.txt.gz\n",
      "QID3527810_20180713_01817_0.txt.gz\n",
      "QID3527838_20180713_01856_0.txt.gz\n",
      "QID3527898_20180713_01936_0.txt.gz\n",
      "QID3527909_20180713_02014_0.txt.gz\n",
      "QID3527921_20180713_02051_0.txt.gz\n",
      "QID3527947_20180713_02130_0.txt.gz\n",
      "QID3527958_20180713_02204_0.txt.gz\n",
      "QID3527969_20180713_02231_0.txt.gz\n",
      "QID3528182_20180713_02713_0.txt.gz\n",
      "QID3528193_20180713_02753_0.txt.gz\n",
      "QID3528204_20180713_02832_0.txt.gz\n",
      "QID3528215_20180713_02908_0.txt.gz\n",
      "QID3528226_20180713_02943_0.txt.gz\n",
      "QID3528237_20180713_03014_0.txt.gz\n",
      "QID3528248_20180713_03052_0.txt.gz\n",
      "QID3528259_20180713_03130_0.txt.gz\n",
      "QID3528270_20180713_03208_0.txt.gz\n",
      "QID3528282_20180713_03244_0.txt.gz\n",
      "QID3527980_20180713_02253_0.txt.gz\n",
      "QID3528294_20180713_03322_0.txt.gz\n",
      "QID3528305_20180713_03359_0.txt.gz\n",
      "QID3528321_20180713_03436_0.txt.gz\n",
      "QID3528332_20180713_03512_0.txt.gz\n",
      "QID3528343_20180713_03546_0.txt.gz\n",
      "QID3528364_20180713_03619_0.txt.gz\n"
     ]
    }
   ],
   "source": [
    "def main():\n",
    "    counter = 0\n",
    "    for root,dirs,files in os.walk(WKDIR):\n",
    "        for f in files:\n",
    "            if f.endswith('.gz'):\n",
    "                if 'Samp_0' in root and  'On' in root:\n",
    "                    threads.append(threading.Thread(target=scan_create, args=(root,f,fo_s0on)))\n",
    "                    threads[-1].start()\n",
    "                elif 'Samp_0' in root and  'Off' in root:\n",
    "                    threads.append(threading.Thread(target=scan_create, args=(root,f,fo_s0off)))\n",
    "                    threads[-1].start()\n",
    "                elif 'Samp_1' in root and  'On' in root:\n",
    "                    threads.append(threading.Thread(target=scan_create, args=(root,f,fo_s1on)))\n",
    "                    threads[-1].start()\n",
    "                elif 'Samp_1' in root and  'Off' in root:\n",
    "                    threads.append(threading.Thread(target=scan_create, args=(root,f,fo_s1off)))\n",
    "                    threads[-1].start()\n",
    "        for thr in threads:\n",
    "            thr.join()\n",
    "    \n",
    "if __name__ == \"__main__\":\n",
    "    global scan_cnt # initialise\n",
    "    scan_cnt['samp0_on']  = 0   \n",
    "    scan_cnt['samp0_off'] = 0\n",
    "    scan_cnt['samp1_on']  = 0\n",
    "    scan_cnt['samp1_off'] = 0\n",
    "\n",
    "    main() # need this for threading I believe"
   ]
  },
  {
   "cell_type": "code",
   "execution_count": 10,
   "metadata": {
    "collapsed": false
   },
   "outputs": [
    {
     "ename": "KeyboardInterrupt",
     "evalue": "",
     "output_type": "error",
     "traceback": [
      "\u001b[1;31m---------------------------------------------------------------------------\u001b[0m",
      "\u001b[1;31mKeyboardInterrupt\u001b[0m                         Traceback (most recent call last)",
      "\u001b[1;32m<ipython-input-10-414363e8abd8>\u001b[0m in \u001b[0;36m<module>\u001b[1;34m()\u001b[0m\n\u001b[1;32m----> 1\u001b[1;33m \u001b[1;32mimport\u001b[0m \u001b[0mpandas\u001b[0m \u001b[1;32mas\u001b[0m \u001b[0mpd\u001b[0m\u001b[1;33m\u001b[0m\u001b[0m\n\u001b[0m\u001b[0;32m      2\u001b[0m \u001b[0mdf\u001b[0m \u001b[1;33m=\u001b[0m \u001b[0mpd\u001b[0m\u001b[1;33m.\u001b[0m\u001b[0mread_csv\u001b[0m\u001b[1;33m(\u001b[0m\u001b[0mos\u001b[0m\u001b[1;33m.\u001b[0m\u001b[0mpath\u001b[0m\u001b[1;33m.\u001b[0m\u001b[0mjoin\u001b[0m\u001b[1;33m(\u001b[0m\u001b[0mWKDIR\u001b[0m\u001b[1;33m,\u001b[0m\u001b[0mfo_s0off\u001b[0m\u001b[1;33m)\u001b[0m\u001b[1;33m,\u001b[0m \u001b[0msep\u001b[0m\u001b[1;33m=\u001b[0m\u001b[1;34m'|'\u001b[0m\u001b[1;33m)\u001b[0m\u001b[1;33m\u001b[0m\u001b[0m\n",
      "\u001b[1;32mC:\\Users\\Admin\\Anaconda2\\envs\\gl-env\\lib\\site-packages\\pandas\\__init__.py\u001b[0m in \u001b[0;36m<module>\u001b[1;34m()\u001b[0m\n\u001b[0;32m     11\u001b[0m \u001b[1;32mfor\u001b[0m \u001b[0mdependency\u001b[0m \u001b[1;32min\u001b[0m \u001b[0mhard_dependencies\u001b[0m\u001b[1;33m:\u001b[0m\u001b[1;33m\u001b[0m\u001b[0m\n\u001b[0;32m     12\u001b[0m     \u001b[1;32mtry\u001b[0m\u001b[1;33m:\u001b[0m\u001b[1;33m\u001b[0m\u001b[0m\n\u001b[1;32m---> 13\u001b[1;33m         \u001b[0m__import__\u001b[0m\u001b[1;33m(\u001b[0m\u001b[0mdependency\u001b[0m\u001b[1;33m)\u001b[0m\u001b[1;33m\u001b[0m\u001b[0m\n\u001b[0m\u001b[0;32m     14\u001b[0m     \u001b[1;32mexcept\u001b[0m \u001b[0mImportError\u001b[0m \u001b[1;32mas\u001b[0m \u001b[0me\u001b[0m\u001b[1;33m:\u001b[0m\u001b[1;33m\u001b[0m\u001b[0m\n\u001b[0;32m     15\u001b[0m         \u001b[0mmissing_dependencies\u001b[0m\u001b[1;33m.\u001b[0m\u001b[0mappend\u001b[0m\u001b[1;33m(\u001b[0m\u001b[0mdependency\u001b[0m\u001b[1;33m)\u001b[0m\u001b[1;33m\u001b[0m\u001b[0m\n",
      "\u001b[1;32mC:\\Users\\Admin\\Anaconda2\\envs\\gl-env\\lib\\site-packages\\numpy\\__init__.pyc\u001b[0m in \u001b[0;36m<module>\u001b[1;34m()\u001b[0m\n\u001b[0;32m    140\u001b[0m         \u001b[1;32mreturn\u001b[0m \u001b[0mloader\u001b[0m\u001b[1;33m(\u001b[0m\u001b[1;33m*\u001b[0m\u001b[0mpackages\u001b[0m\u001b[1;33m,\u001b[0m \u001b[1;33m**\u001b[0m\u001b[0moptions\u001b[0m\u001b[1;33m)\u001b[0m\u001b[1;33m\u001b[0m\u001b[0m\n\u001b[0;32m    141\u001b[0m \u001b[1;33m\u001b[0m\u001b[0m\n\u001b[1;32m--> 142\u001b[1;33m     \u001b[1;32mfrom\u001b[0m \u001b[1;33m.\u001b[0m \u001b[1;32mimport\u001b[0m \u001b[0madd_newdocs\u001b[0m\u001b[1;33m\u001b[0m\u001b[0m\n\u001b[0m\u001b[0;32m    143\u001b[0m     __all__ = ['add_newdocs',\n\u001b[0;32m    144\u001b[0m                \u001b[1;34m'ModuleDeprecationWarning'\u001b[0m\u001b[1;33m,\u001b[0m\u001b[1;33m\u001b[0m\u001b[0m\n",
      "\u001b[1;32mC:\\Users\\Admin\\Anaconda2\\envs\\gl-env\\lib\\site-packages\\numpy\\add_newdocs.py\u001b[0m in \u001b[0;36m<module>\u001b[1;34m()\u001b[0m\n\u001b[0;32m     11\u001b[0m \u001b[1;32mfrom\u001b[0m \u001b[0m__future__\u001b[0m \u001b[1;32mimport\u001b[0m \u001b[0mdivision\u001b[0m\u001b[1;33m,\u001b[0m \u001b[0mabsolute_import\u001b[0m\u001b[1;33m,\u001b[0m \u001b[0mprint_function\u001b[0m\u001b[1;33m\u001b[0m\u001b[0m\n\u001b[0;32m     12\u001b[0m \u001b[1;33m\u001b[0m\u001b[0m\n\u001b[1;32m---> 13\u001b[1;33m \u001b[1;32mfrom\u001b[0m \u001b[0mnumpy\u001b[0m\u001b[1;33m.\u001b[0m\u001b[0mlib\u001b[0m \u001b[1;32mimport\u001b[0m \u001b[0madd_newdoc\u001b[0m\u001b[1;33m\u001b[0m\u001b[0m\n\u001b[0m\u001b[0;32m     14\u001b[0m \u001b[1;33m\u001b[0m\u001b[0m\n\u001b[0;32m     15\u001b[0m \u001b[1;31m###############################################################################\u001b[0m\u001b[1;33m\u001b[0m\u001b[1;33m\u001b[0m\u001b[0m\n",
      "\u001b[1;32mC:\\Users\\Admin\\Anaconda2\\envs\\gl-env\\lib\\site-packages\\numpy\\lib\\__init__.py\u001b[0m in \u001b[0;36m<module>\u001b[1;34m()\u001b[0m\n\u001b[0;32m      7\u001b[0m \u001b[1;33m\u001b[0m\u001b[0m\n\u001b[0;32m      8\u001b[0m \u001b[1;32mfrom\u001b[0m \u001b[1;33m.\u001b[0m\u001b[0mtype_check\u001b[0m \u001b[1;32mimport\u001b[0m \u001b[1;33m*\u001b[0m\u001b[1;33m\u001b[0m\u001b[0m\n\u001b[1;32m----> 9\u001b[1;33m \u001b[1;32mfrom\u001b[0m \u001b[1;33m.\u001b[0m\u001b[0mindex_tricks\u001b[0m \u001b[1;32mimport\u001b[0m \u001b[1;33m*\u001b[0m\u001b[1;33m\u001b[0m\u001b[0m\n\u001b[0m\u001b[0;32m     10\u001b[0m \u001b[1;32mfrom\u001b[0m \u001b[1;33m.\u001b[0m\u001b[0mfunction_base\u001b[0m \u001b[1;32mimport\u001b[0m \u001b[1;33m*\u001b[0m\u001b[1;33m\u001b[0m\u001b[0m\n\u001b[0;32m     11\u001b[0m \u001b[1;32mfrom\u001b[0m \u001b[1;33m.\u001b[0m\u001b[0mmixins\u001b[0m \u001b[1;32mimport\u001b[0m \u001b[1;33m*\u001b[0m\u001b[1;33m\u001b[0m\u001b[0m\n",
      "\u001b[1;32mC:\\Users\\Admin\\Anaconda2\\envs\\gl-env\\lib\\site-packages\\numpy\\lib\\index_tricks.py\u001b[0m in \u001b[0;36m<module>\u001b[1;34m()\u001b[0m\n\u001b[0;32m     10\u001b[0m \u001b[1;32mfrom\u001b[0m \u001b[0mnumpy\u001b[0m\u001b[1;33m.\u001b[0m\u001b[0mcore\u001b[0m\u001b[1;33m.\u001b[0m\u001b[0mnumerictypes\u001b[0m \u001b[1;32mimport\u001b[0m \u001b[0mfind_common_type\u001b[0m\u001b[1;33m,\u001b[0m \u001b[0missubdtype\u001b[0m\u001b[1;33m\u001b[0m\u001b[0m\n\u001b[0;32m     11\u001b[0m \u001b[1;33m\u001b[0m\u001b[0m\n\u001b[1;32m---> 12\u001b[1;33m \u001b[1;32mfrom\u001b[0m \u001b[1;33m.\u001b[0m \u001b[1;32mimport\u001b[0m \u001b[0mfunction_base\u001b[0m\u001b[1;33m\u001b[0m\u001b[0m\n\u001b[0m\u001b[0;32m     13\u001b[0m \u001b[1;32mimport\u001b[0m \u001b[0mnumpy\u001b[0m\u001b[1;33m.\u001b[0m\u001b[0mmatrixlib\u001b[0m \u001b[1;32mas\u001b[0m \u001b[0mmatrixlib\u001b[0m\u001b[1;33m\u001b[0m\u001b[0m\n\u001b[0;32m     14\u001b[0m \u001b[1;32mfrom\u001b[0m \u001b[1;33m.\u001b[0m\u001b[0mfunction_base\u001b[0m \u001b[1;32mimport\u001b[0m \u001b[0mdiff\u001b[0m\u001b[1;33m\u001b[0m\u001b[0m\n",
      "\u001b[1;32mC:\\Users\\Admin\\Anaconda2\\envs\\gl-env\\lib\\site-packages\\numpy\\lib\\function_base.py\u001b[0m in \u001b[0;36m<module>\u001b[1;34m()\u001b[0m\n\u001b[0;32m      8\u001b[0m \u001b[1;33m\u001b[0m\u001b[0m\n\u001b[0;32m      9\u001b[0m \u001b[1;32mimport\u001b[0m \u001b[0mnumpy\u001b[0m \u001b[1;32mas\u001b[0m \u001b[0mnp\u001b[0m\u001b[1;33m\u001b[0m\u001b[0m\n\u001b[1;32m---> 10\u001b[1;33m \u001b[1;32mimport\u001b[0m \u001b[0mnumpy\u001b[0m\u001b[1;33m.\u001b[0m\u001b[0mcore\u001b[0m\u001b[1;33m.\u001b[0m\u001b[0mnumeric\u001b[0m \u001b[1;32mas\u001b[0m \u001b[0m_nx\u001b[0m\u001b[1;33m\u001b[0m\u001b[0m\n\u001b[0m\u001b[0;32m     11\u001b[0m \u001b[1;32mfrom\u001b[0m \u001b[0mnumpy\u001b[0m\u001b[1;33m.\u001b[0m\u001b[0mcore\u001b[0m \u001b[1;32mimport\u001b[0m \u001b[0mlinspace\u001b[0m\u001b[1;33m,\u001b[0m \u001b[0matleast_1d\u001b[0m\u001b[1;33m,\u001b[0m \u001b[0matleast_2d\u001b[0m\u001b[1;33m,\u001b[0m \u001b[0mtranspose\u001b[0m\u001b[1;33m\u001b[0m\u001b[0m\n\u001b[0;32m     12\u001b[0m from numpy.core.numeric import (\n",
      "\u001b[1;31mKeyboardInterrupt\u001b[0m: "
     ]
    }
   ],
   "source": [
    "import pandas as pd\n",
    "df = pd.read_csv(os.path.join(WKDIR,fo_s0off), sep='|')"
   ]
  }
 ],
 "metadata": {
  "kernelspec": {
   "display_name": "Python 2",
   "language": "python",
   "name": "python2"
  },
  "language_info": {
   "codemirror_mode": {
    "name": "ipython",
    "version": 2
   },
   "file_extension": ".py",
   "mimetype": "text/x-python",
   "name": "python",
   "nbconvert_exporter": "python",
   "pygments_lexer": "ipython2",
   "version": "2.7.11"
  }
 },
 "nbformat": 4,
 "nbformat_minor": 0
}
